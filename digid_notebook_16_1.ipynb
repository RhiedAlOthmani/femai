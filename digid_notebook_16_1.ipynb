{
 "cells": [
  {
   "cell_type": "markdown",
   "metadata": {},
   "source": [
    "# Predicting the (star)ratings for Dig<font color=\"#F39C12\">iD</font> app"
   ]
  },
  {
   "cell_type": "markdown",
   "metadata": {},
   "source": [
    "<h3>For this project, the reviews of the DigiD app on the Google Playstore will be analyzed. </h3>"
   ]
  },
  {
   "cell_type": "markdown",
   "metadata": {},
   "source": [
    "<font color=\"#5c5c3d\"><h2>DigiD</h2></font>\n",
    "\n",
    "DigiD (Digital Identity) is the system used by governmental agencies to facilitate digital authentication of citizens identities when they apply for an online transaction (Geest & Beldad, 2010). In 2018 DigiD had 13,7 million users, 1,5 per cent more than the year before. Furthermore, it processed 308 million authentications, with an increase of 9,9 per cent compared to 2017 (Logius, 2018). \n",
    "\n",
    "<font color=\"#5c5c3d\"><h2>Concept</h2></font>\n",
    "\n",
    "For this project I will be looking at the reviews by users and try to find how users experience DigiD.\n",
    "In this case, several are scenarios possible; \n",
    "\n",
    "<li> Users log's in successfully, gains experience and can progress. </li>\n",
    "    \n",
    "<li> Alternatively, the user encounters difficulty using the app. Either apps' functionality or user interface is suboptimal, or the user lacks online experience, technical or functional understanding. </li>\n",
    "    \n",
    ">Either way, the user fails with a specific function of Digid; preventing them from progressing to a higher level of reliability and thus eroding the trust in the relationship with DigiD. By examening the reviews, obsticals can by identified and funcionalities improved.  \n",
    "\n",
    "<font color=\"#5c5c3d\"><h2>Text mining & predicting ratings</h2></font>\n",
    "\n",
    "The reviews will be processed and analysed with text mining. \"The text mining method estimates its results based on the actual existence of a research term, which can be stronger than other methods that base their conclusions on simple contextual data or the authors' opinions.\" (Abu-Shanab and Harb, 2019, p.3) Text  mining further estimates the terms or trends in data and is fitting for use with a significant amount of keywords, making text mining more accurate and observable than other methods (Abu-Shanab and Harb, 2019). Additionally, Pelsmackers'study (2018) found that highly involved individuals are more motivated to process central information in a text review than less involved people. There reviews will have the significant impact on\n",
    "possible future consumers looking for information. By looking into possible predictors for ratings, this gives insight for developers and companies, in this case, the Dutch government.\n"
   ]
  },
  {
   "cell_type": "markdown",
   "metadata": {},
   "source": [
    "<font color=\"#5c5c3d\"><h2>About the data </h2></font>\n",
    "<font color=\" #8a8a5c\"><h3>Retrieving the data </h3></font>\n",
    "\n",
    "The data is collected from the Google Play store. This was challenging, because Google prevents the scraping of user reviews.\n",
    "After many struggles to retrieve the data, I finally managed it. I saved the page and then used BeautifulSoup to scrape the name, date, review and stars. This was Erik's idea. \n",
    "\n",
    "<i>Users names will only be used to identify the review. Other than that, no personal information of users is used for this project. <i>"
   ]
  },
  {
   "cell_type": "markdown",
   "metadata": {},
   "source": [
    "<font color=\"#5c5c3d\"><h2>Importing the data & libraries </h2></font>"
   ]
  },
  {
   "cell_type": "code",
   "execution_count": 1,
   "metadata": {},
   "outputs": [],
   "source": [
    "#import requests # requests \n",
    "from bs4 import BeautifulSoup # scraping tool, to pull data from HTLM or XML pages\n",
    "import seaborn as sns # plotting library with Seaborn graphs\n",
    "import pandas as pd # so that we can type pd instead of pandas, easier use\n",
    "import matplotlib.pyplot as plt # we need Matplotlib for setting the labels in the Seaborn graphs\n",
    "from pandas import Series,DataFrame # transforms lists into usefull dataframes"
   ]
  },
  {
   "cell_type": "code",
   "execution_count": 2,
   "metadata": {},
   "outputs": [
    {
     "data": {
      "text/html": [
       "<div>\n",
       "<style scoped>\n",
       "    .dataframe tbody tr th:only-of-type {\n",
       "        vertical-align: middle;\n",
       "    }\n",
       "\n",
       "    .dataframe tbody tr th {\n",
       "        vertical-align: top;\n",
       "    }\n",
       "\n",
       "    .dataframe thead th {\n",
       "        text-align: right;\n",
       "    }\n",
       "</style>\n",
       "<table border=\"1\" class=\"dataframe\">\n",
       "  <thead>\n",
       "    <tr style=\"text-align: right;\">\n",
       "      <th></th>\n",
       "      <th>name</th>\n",
       "      <th>reviewFinal</th>\n",
       "      <th>stars</th>\n",
       "      <th>date</th>\n",
       "    </tr>\n",
       "  </thead>\n",
       "  <tbody>\n",
       "    <tr>\n",
       "      <td>0</td>\n",
       "      <td>Paul Zuijdwijjk</td>\n",
       "      <td>Werkt perfect</td>\n",
       "      <td>5</td>\n",
       "      <td>23 januari 2020</td>\n",
       "    </tr>\n",
       "    <tr>\n",
       "      <td>1</td>\n",
       "      <td>Toos Van Veen</td>\n",
       "      <td>Slecht</td>\n",
       "      <td>1</td>\n",
       "      <td>23 januari 2020</td>\n",
       "    </tr>\n",
       "    <tr>\n",
       "      <td>2</td>\n",
       "      <td>Paul Overwijk</td>\n",
       "      <td>Heb digid geinstalleerd.wil ergens imloggen he...</td>\n",
       "      <td>1</td>\n",
       "      <td>23 januari 2020</td>\n",
       "    </tr>\n",
       "    <tr>\n",
       "      <td>3</td>\n",
       "      <td>Ilonka Rip</td>\n",
       "      <td>Snel en gemakkelijk</td>\n",
       "      <td>5</td>\n",
       "      <td>23 januari 2020</td>\n",
       "    </tr>\n",
       "    <tr>\n",
       "      <td>4</td>\n",
       "      <td>Anjuly Labruyere</td>\n",
       "      <td>Goed</td>\n",
       "      <td>5</td>\n",
       "      <td>23 januari 2020</td>\n",
       "    </tr>\n",
       "    <tr>\n",
       "      <td>...</td>\n",
       "      <td>...</td>\n",
       "      <td>...</td>\n",
       "      <td>...</td>\n",
       "      <td>...</td>\n",
       "    </tr>\n",
       "    <tr>\n",
       "      <td>1155</td>\n",
       "      <td>niek bok</td>\n",
       "      <td>Werkt perfect</td>\n",
       "      <td>5</td>\n",
       "      <td>19 december 2019</td>\n",
       "    </tr>\n",
       "    <tr>\n",
       "      <td>1156</td>\n",
       "      <td>Gershwin Maarten</td>\n",
       "      <td>Ik ben tevreden over de app en het is overzich...</td>\n",
       "      <td>5</td>\n",
       "      <td>19 december 2019</td>\n",
       "    </tr>\n",
       "    <tr>\n",
       "      <td>1157</td>\n",
       "      <td>Erwin Drechsler</td>\n",
       "      <td>Erg lastig als je de activatie wil voltooien d...</td>\n",
       "      <td>2</td>\n",
       "      <td>18 december 2019</td>\n",
       "    </tr>\n",
       "    <tr>\n",
       "      <td>1158</td>\n",
       "      <td>Rob Schellekens</td>\n",
       "      <td>Ik probeer nu voor de derde keer (in 2 weken) ...</td>\n",
       "      <td>1</td>\n",
       "      <td>18 december 2019</td>\n",
       "    </tr>\n",
       "    <tr>\n",
       "      <td>1159</td>\n",
       "      <td>Jilles Koedood</td>\n",
       "      <td>Makkelijk en goed werkende app.</td>\n",
       "      <td>5</td>\n",
       "      <td>18 december 2019</td>\n",
       "    </tr>\n",
       "  </tbody>\n",
       "</table>\n",
       "<p>1160 rows × 4 columns</p>\n",
       "</div>"
      ],
      "text/plain": [
       "                  name                                        reviewFinal  \\\n",
       "0      Paul Zuijdwijjk                                      Werkt perfect   \n",
       "1        Toos Van Veen                                             Slecht   \n",
       "2        Paul Overwijk  Heb digid geinstalleerd.wil ergens imloggen he...   \n",
       "3           Ilonka Rip                                Snel en gemakkelijk   \n",
       "4     Anjuly Labruyere                                               Goed   \n",
       "...                ...                                                ...   \n",
       "1155          niek bok                                      Werkt perfect   \n",
       "1156  Gershwin Maarten  Ik ben tevreden over de app en het is overzich...   \n",
       "1157   Erwin Drechsler  Erg lastig als je de activatie wil voltooien d...   \n",
       "1158   Rob Schellekens  Ik probeer nu voor de derde keer (in 2 weken) ...   \n",
       "1159    Jilles Koedood                    Makkelijk en goed werkende app.   \n",
       "\n",
       "     stars              date  \n",
       "0        5   23 januari 2020  \n",
       "1        1   23 januari 2020  \n",
       "2        1   23 januari 2020  \n",
       "3        5   23 januari 2020  \n",
       "4        5   23 januari 2020  \n",
       "...    ...               ...  \n",
       "1155     5  19 december 2019  \n",
       "1156     5  19 december 2019  \n",
       "1157     2  18 december 2019  \n",
       "1158     1  18 december 2019  \n",
       "1159     5  18 december 2019  \n",
       "\n",
       "[1160 rows x 4 columns]"
      ]
     },
     "execution_count": 2,
     "metadata": {},
     "output_type": "execute_result"
    }
   ],
   "source": [
    "#import urllib.request\n",
    "# With the help from Julia Sudnik, I was able to retrieve the name, stars and reviews from the html file\n",
    "fname = r\"./data/9/DigiD - Apps op Google Play.html\" # finding the google play store page (saved)\n",
    "HtmlFile = open(fname, 'r', encoding='utf-8') # opening the file\n",
    "source_code = HtmlFile.read() # reading the file\n",
    "\n",
    "soup = BeautifulSoup(source_code, 'lxml') # parsing the file\n",
    "\n",
    "soup = soup.find_all('div', {'jscontroller':\"H6eOGe\"}) # finding the div in which the data was\n",
    "\n",
    "# making empty lists to put the data in\n",
    "names = []\n",
    "comments = []\n",
    "stars = []\n",
    "dates = []\n",
    "\n",
    "# creating a for loop to get the name, date, stars and reviews from the html page\n",
    "for elem in soup:\n",
    "    name = elem.find(class_=\"xKpxId zc7KVe\") # this is where the name of the user is found\n",
    "    name = elem.find(class_='X43Kjb').get_text() # nested div\n",
    "    names.append(name) # adding the name to the list\n",
    "    \n",
    "    comment = elem.find('span', {'jsname': 'bN97Pc'}).get_text()\n",
    "    comments.append(comment)\n",
    "    \n",
    "    star = elem.find(class_= 'pf5lIe')\n",
    "    star = star.find('div')['aria-label'][15]\n",
    "    stars.append(star)\n",
    "    \n",
    "    date = elem.find(class_= 'bAhLNe kx8XBd')\n",
    "    date = date.find('span', class_='p2TkOb').get_text()\n",
    "    dates.append(date)\n",
    "    \n",
    "d = {'name': names, 'reviewFinal':comments, 'stars':stars, 'date':dates} # creating labels for the columns\n",
    "    \n",
    "df = pd.DataFrame(d) # converting the lists into a dateframe\n",
    "df"
   ]
  },
  {
   "cell_type": "markdown",
   "metadata": {},
   "source": [
    "<font color=\"#5c5c3d\"><h2>Examining at the data</h2></font>"
   ]
  },
  {
   "cell_type": "markdown",
   "metadata": {},
   "source": [
    "There are few analyses that can be done using this dataset.\n",
    "\n",
    "<ul style=\"list-style-type:square;\">\n",
    "  <li>exploring the ratings, by just looking at the stars and amount of reviews</li>\n",
    "  <li>exploring the words in the reviews</li>\n",
    "  <li>predicting the ratings, by using the reviews</li>\n",
    "</ul>\n",
    "\n",
    "<b>Levels of measurment</b><br>\n",
    "Ordinal: the data consists of reviews(opinion) and it's ranked(1 to 5 stars).\n",
    "<br>\n",
    "This makes the data categorical qualitative.\n",
    "\n",
    "To start with the analyses, the data must be cleaned."
   ]
  },
  {
   "cell_type": "markdown",
   "metadata": {},
   "source": [
    "<font color=\"#5c5c3d\"><h2>Cleaning the data </h2></font>"
   ]
  },
  {
   "cell_type": "markdown",
   "metadata": {},
   "source": [
    "<b>Cleaning begins</b>\n",
    "\n",
    "<ul style=\"list-style-type:square;\">\n",
    "  <li>exploring the words in the reviews: the amount of words could be counted and put into a new column</li>\n",
    "  <li>exploring the kind words in the reviews: which words are used for positive or negative reviews</li>\n",
    "</ul>\n"
   ]
  },
  {
   "cell_type": "code",
   "execution_count": 3,
   "metadata": {},
   "outputs": [],
   "source": [
    "#to transform the date into 'date', some months must be translated\n",
    "df['date']= df['date'].str.replace(\"augustus\",\"august\")\n",
    "df['date']= df['date'].str.replace(\"juli\",\"july\")\n",
    "df['date']= df['date'].str.replace(\"juni\",\"june\")\n",
    "df['date']= df['date'].str.replace(\"januari\",\"january\")"
   ]
  },
  {
   "cell_type": "code",
   "execution_count": 4,
   "metadata": {},
   "outputs": [
    {
     "data": {
      "text/html": [
       "<div>\n",
       "<style scoped>\n",
       "    .dataframe tbody tr th:only-of-type {\n",
       "        vertical-align: middle;\n",
       "    }\n",
       "\n",
       "    .dataframe tbody tr th {\n",
       "        vertical-align: top;\n",
       "    }\n",
       "\n",
       "    .dataframe thead th {\n",
       "        text-align: right;\n",
       "    }\n",
       "</style>\n",
       "<table border=\"1\" class=\"dataframe\">\n",
       "  <thead>\n",
       "    <tr style=\"text-align: right;\">\n",
       "      <th></th>\n",
       "      <th>name</th>\n",
       "      <th>reviewFinal</th>\n",
       "      <th>stars</th>\n",
       "      <th>date</th>\n",
       "      <th>count_words1</th>\n",
       "    </tr>\n",
       "  </thead>\n",
       "  <tbody>\n",
       "    <tr>\n",
       "      <td>1159</td>\n",
       "      <td>Jilles Koedood</td>\n",
       "      <td>Makkelijk en goed werkende app.</td>\n",
       "      <td>5</td>\n",
       "      <td>2019-12-18</td>\n",
       "      <td>5</td>\n",
       "    </tr>\n",
       "    <tr>\n",
       "      <td>1158</td>\n",
       "      <td>Rob Schellekens</td>\n",
       "      <td>Ik probeer nu voor de derde keer (in 2 weken) ...</td>\n",
       "      <td>1</td>\n",
       "      <td>2019-12-18</td>\n",
       "      <td>45</td>\n",
       "    </tr>\n",
       "    <tr>\n",
       "      <td>1157</td>\n",
       "      <td>Erwin Drechsler</td>\n",
       "      <td>Erg lastig als je de activatie wil voltooien d...</td>\n",
       "      <td>2</td>\n",
       "      <td>2019-12-18</td>\n",
       "      <td>31</td>\n",
       "    </tr>\n",
       "    <tr>\n",
       "      <td>1156</td>\n",
       "      <td>Gershwin Maarten</td>\n",
       "      <td>Ik ben tevreden over de app en het is overzich...</td>\n",
       "      <td>5</td>\n",
       "      <td>2019-12-19</td>\n",
       "      <td>10</td>\n",
       "    </tr>\n",
       "    <tr>\n",
       "      <td>1138</td>\n",
       "      <td>Wim Koopman</td>\n",
       "      <td>Waardeloos voor ouderen, je kunt beter al je g...</td>\n",
       "      <td>1</td>\n",
       "      <td>2019-12-19</td>\n",
       "      <td>21</td>\n",
       "    </tr>\n",
       "    <tr>\n",
       "      <td>...</td>\n",
       "      <td>...</td>\n",
       "      <td>...</td>\n",
       "      <td>...</td>\n",
       "      <td>...</td>\n",
       "      <td>...</td>\n",
       "    </tr>\n",
       "    <tr>\n",
       "      <td>26</td>\n",
       "      <td>Rita Verweij</td>\n",
       "      <td>Handzame/duidelijke app! Perfect.</td>\n",
       "      <td>5</td>\n",
       "      <td>2020-01-23</td>\n",
       "      <td>3</td>\n",
       "    </tr>\n",
       "    <tr>\n",
       "      <td>25</td>\n",
       "      <td>Monique Stevens</td>\n",
       "      <td>Oké</td>\n",
       "      <td>3</td>\n",
       "      <td>2020-01-23</td>\n",
       "      <td>1</td>\n",
       "    </tr>\n",
       "    <tr>\n",
       "      <td>24</td>\n",
       "      <td>Mau Tricia</td>\n",
       "      <td>Veilig en prima</td>\n",
       "      <td>5</td>\n",
       "      <td>2020-01-23</td>\n",
       "      <td>3</td>\n",
       "    </tr>\n",
       "    <tr>\n",
       "      <td>33</td>\n",
       "      <td>Pearl Uyttenhove</td>\n",
       "      <td>Voor de uodates van deze klote appp moest ik v...</td>\n",
       "      <td>1</td>\n",
       "      <td>2020-01-23</td>\n",
       "      <td>14</td>\n",
       "    </tr>\n",
       "    <tr>\n",
       "      <td>0</td>\n",
       "      <td>Paul Zuijdwijjk</td>\n",
       "      <td>Werkt perfect</td>\n",
       "      <td>5</td>\n",
       "      <td>2020-01-23</td>\n",
       "      <td>2</td>\n",
       "    </tr>\n",
       "  </tbody>\n",
       "</table>\n",
       "<p>1160 rows × 5 columns</p>\n",
       "</div>"
      ],
      "text/plain": [
       "                  name                                        reviewFinal  \\\n",
       "1159    Jilles Koedood                    Makkelijk en goed werkende app.   \n",
       "1158   Rob Schellekens  Ik probeer nu voor de derde keer (in 2 weken) ...   \n",
       "1157   Erwin Drechsler  Erg lastig als je de activatie wil voltooien d...   \n",
       "1156  Gershwin Maarten  Ik ben tevreden over de app en het is overzich...   \n",
       "1138       Wim Koopman  Waardeloos voor ouderen, je kunt beter al je g...   \n",
       "...                ...                                                ...   \n",
       "26        Rita Verweij                  Handzame/duidelijke app! Perfect.   \n",
       "25     Monique Stevens                                                Oké   \n",
       "24          Mau Tricia                                    Veilig en prima   \n",
       "33    Pearl Uyttenhove  Voor de uodates van deze klote appp moest ik v...   \n",
       "0      Paul Zuijdwijjk                                      Werkt perfect   \n",
       "\n",
       "     stars       date  count_words1  \n",
       "1159     5 2019-12-18             5  \n",
       "1158     1 2019-12-18            45  \n",
       "1157     2 2019-12-18            31  \n",
       "1156     5 2019-12-19            10  \n",
       "1138     1 2019-12-19            21  \n",
       "...    ...        ...           ...  \n",
       "26       5 2020-01-23             3  \n",
       "25       3 2020-01-23             1  \n",
       "24       5 2020-01-23             3  \n",
       "33       1 2020-01-23            14  \n",
       "0        5 2020-01-23             2  \n",
       "\n",
       "[1160 rows x 5 columns]"
      ]
     },
     "execution_count": 4,
     "metadata": {},
     "output_type": "execute_result"
    }
   ],
   "source": [
    "#converting the date(text) to actual date\n",
    "import datetime\n",
    "import time\n",
    "from datetime import timedelta\n",
    "\n",
    "\n",
    "# dropping empty values \n",
    "df = df.dropna()\n",
    "\n",
    "# dropping duplicate values \n",
    "df.drop_duplicates(keep=False,inplace=True) \n",
    "\n",
    "#converting the data(text/string) to actual date\n",
    "df['date'] = df['date'].apply(pd.to_datetime)\n",
    "\n",
    "#sorting the reviews by date\n",
    "df = df.sort_values(by='date') \n",
    "\n",
    "#To see if there is correllation between the amount rating and the amount of words per review\n",
    "#creating a new column with the amount of words for every review\n",
    "df['count_words1'] = df['reviewFinal'].str.split().str.len()\n",
    "\n",
    "df"
   ]
  },
  {
   "cell_type": "code",
   "execution_count": 5,
   "metadata": {},
   "outputs": [],
   "source": [
    "#the apply method of a dataframe lets us apply a function to all the elements.\n",
    "df['stars'] = df['stars'].apply(pd.to_numeric, errors='coerce')"
   ]
  },
  {
   "cell_type": "markdown",
   "metadata": {},
   "source": [
    "<font color=\"#5c5c3d\"><h2>Visualizing the distribution</h2></font>"
   ]
  },
  {
   "cell_type": "markdown",
   "metadata": {},
   "source": [
    "Now that the data is transformed, I can use it in graphs. \n",
    "With seaborn, we can make a <b>histogram</b> and see what the data looks like."
   ]
  },
  {
   "cell_type": "code",
   "execution_count": 6,
   "metadata": {},
   "outputs": [
    {
     "name": "stdout",
     "output_type": "stream",
     "text": [
      "The median is: 4.0 stars\n",
      "The mean is: 3.320689655172414 stars\n"
     ]
    },
    {
     "data": {
      "image/png": "[encoded data removed]",
      "text/plain": [
       "<Figure size 432x288 with 1 Axes>"
      ]
     },
     "metadata": {
      "needs_background": "light"
     },
     "output_type": "display_data"
    }
   ],
   "source": [
    "mean_stars = df['stars'].mean()\n",
    "median_stars = df['stars'].median()\n",
    "\n",
    "print(f'The median is: {median_stars} stars')\n",
    "print(f'The mean is: {mean_stars} stars')\n",
    "sns.set_color_codes()\n",
    "\n",
    "sns.distplot(df['stars'], kde=False, color=\"tab:orange\", rug_kws=False, norm_hist=False, label=\"distribution\")\n",
    "plt.title('DigiD app ratings on Google play store')\n",
    "plt.axvline(median_stars, 0, 100, color='blue', label='median') #This adds a vertical line at x-position median_size, from y = 0 to y = 100 \n",
    "plt.axvline(mean_stars, 0, 100, color='black', label='mean') \n",
    "\n",
    "plt.ylabel('Number of ratings')\n",
    "plt.xlabel('Stars')\n",
    "plt.legend() #This adds a legend. It works automatically because I've set the labels in the previous lines\n",
    "plt.savefig('displot.png', dpi=300)\n",
    "\n",
    "plt.show()\n"
   ]
  },
  {
   "cell_type": "markdown",
   "metadata": {},
   "source": [
    "The average(mean) of stars of the DigiD app is not bad! It looks like the app is doing well for that period of time. This depends on the reviews scraped for this analysis. \n",
    "\n",
    "The middle value (median) of the stars is a better measure to find know the average rating, because it is not infleunces by extreme values. This applies here, users give DigiD either a very low(1 star)  rating or a very high (5 stars) rating.  "
   ]
  },
  {
   "cell_type": "markdown",
   "metadata": {},
   "source": [
    "To see if the amount of words can tell us something about the rating, we can make a plot. "
   ]
  },
  {
   "cell_type": "code",
   "execution_count": 7,
   "metadata": {},
   "outputs": [
    {
     "name": "stdout",
     "output_type": "stream",
     "text": [
      "DigiD app ratings + amount of words\n"
     ]
    },
    {
     "data": {
      "image/png": "[encoded data removed]",
      "text/plain": [
       "<Figure size 432x432 with 3 Axes>"
      ]
     },
     "metadata": {
      "needs_background": "light"
     },
     "output_type": "display_data"
    }
   ],
   "source": [
    "sns.jointplot(x=\"stars\", y=\"count_words1\", data=df, kind=\"reg\", color=\"g\");\n",
    "plt.ylabel('Word amount')\n",
    "plt.xlabel('Stars')\n",
    "print('DigiD app ratings + amount of words')\n",
    "#plt.savefig('jointplot.png', dpi=300)"
   ]
  },
  {
   "cell_type": "markdown",
   "metadata": {},
   "source": [
    "The distribution of the ratings has a central tendency. The ratings are either very low or very high. The 2, 3 and for stars are low. \n",
    "\n",
    "It seems that most 1 star review have more words, than higher reviews.\n"
   ]
  },
  {
   "cell_type": "markdown",
   "metadata": {},
   "source": [
    "<h3>Exploring the words</h3>"
   ]
  },
  {
   "cell_type": "code",
   "execution_count": 8,
   "metadata": {},
   "outputs": [],
   "source": [
    "#importing the needed libraries\n",
    "from collections import Counter #counts all the words per array\n",
    "df['reviewFinal'] = df['reviewFinal'].str.lower() # converting the words into lowercases, to combine them\n",
    "amount = Counter(\" \".join(df[\"reviewFinal\"]).split()).most_common(53) # getting the most common words\n",
    "\n",
    "arr1, arr2 = [], [] #making empty lists\n",
    "\n",
    "for i, j in amount: # putting the value's in the lists\n",
    "    arr1.append(i)\n",
    "    arr2.append(j)\n",
    "    \n",
    "d = {'word': arr1, 'count':arr2} #labelling the columns\n",
    "df2 = pd.DataFrame(d) #putting all the common words into a dataframe\n",
    "\n",
    "from nltk.corpus import stopwords #removing the stopwords\n",
    "stop = stopwords.words('dutch','english') # some reviews are in English\n",
    "add_stop = ['app','De','en','En','Ik','ik','App','app.','weer','heel','gewoon','zeer'] # feedback from Poster session\n",
    "stop.extend(add_stop)\n",
    "\n",
    "#detect whenever there is a stopword, and when it's not, add it to the dataframe\n",
    "df2['word'] = df2['word'].apply(lambda x: ''.join([word for word in x.split() if word not in (stop)]))\n",
    "df2 = df2[df2['word'] != ''] #removing the empty value's"
   ]
  },
  {
   "cell_type": "code",
   "execution_count": 9,
   "metadata": {},
   "outputs": [
    {
     "data": {
      "text/plain": [
       "Text(0.5, 1.0, 'Most common words in DigiD reviews')"
      ]
     },
     "execution_count": 9,
     "metadata": {},
     "output_type": "execute_result"
    },
    {
     "data": {
      "image/png": "[encoded data removed]",
      "text/plain": [
       "<Figure size 432x648 with 1 Axes>"
      ]
     },
     "metadata": {},
     "output_type": "display_data"
    }
   ],
   "source": [
    "# creating a barplot to have a better look at the most common words (in comparison to each other)\n",
    "import seaborn as sns\n",
    "sns.set(style=\"whitegrid\")\n",
    "ax = plt.subplots(figsize=(6, 9))\n",
    "ax = sns.barplot(x=\"count\", y=\"word\", data=df2)\n",
    "plt.title('Most common words in DigiD reviews')\n",
    "#plt.savefig('mostcommenwords.png', dpi=300)"
   ]
  },
  {
   "cell_type": "markdown",
   "metadata": {},
   "source": [
    "From this plot, we can see the most common words. Some words are out of context when we look at it like this. It is unclear if they are positive or negative. But they seem like positive words. A Word Cloud could show more. \n",
    "\n",
    ">Intressing keywords are: veilig and inloggen"
   ]
  },
  {
   "cell_type": "markdown",
   "metadata": {},
   "source": [
    "<b>Advantages of Word Clouds :</b>\n",
    "\n",
    "<ul style=\"list-style-type:square;\">\n",
    "  <li>Analyzing feedback based on content(text)</li>\n",
    "</ul>\n",
    "\n",
    "\n",
    "<b>Drawbacks of Word Clouds :</b>\n",
    "<ul style=\"list-style-type:square;\">\n",
    "  <li>Word Clouds are not always suited for every situation.</li>\n",
    "  <li>Data should be optimized for context. </li>\n",
    "</ul>"
   ]
  },
  {
   "cell_type": "code",
   "execution_count": 2,
   "metadata": {},
   "outputs": [
    {
     "ename": "NameError",
     "evalue": "name 'df' is not defined",
     "output_type": "error",
     "traceback": [
      "\u001b[1;31m---------------------------------------------------------------------------\u001b[0m",
      "\u001b[1;31mNameError\u001b[0m                                 Traceback (most recent call last)",
      "\u001b[1;32m<ipython-input-2-41f6f07b5edb>\u001b[0m in \u001b[0;36m<module>\u001b[1;34m\u001b[0m\n\u001b[0;32m      2\u001b[0m \u001b[1;32mfrom\u001b[0m \u001b[0mwordcloud\u001b[0m \u001b[1;32mimport\u001b[0m \u001b[0mWordCloud\u001b[0m\u001b[1;33m,\u001b[0m \u001b[0mSTOPWORDS\u001b[0m\u001b[1;33m\u001b[0m\u001b[1;33m\u001b[0m\u001b[0m\n\u001b[0;32m      3\u001b[0m \u001b[1;31m# Read the whole text.\u001b[0m\u001b[1;33m\u001b[0m\u001b[1;33m\u001b[0m\u001b[1;33m\u001b[0m\u001b[0m\n\u001b[1;32m----> 4\u001b[1;33m \u001b[0mtext\u001b[0m \u001b[1;33m=\u001b[0m \u001b[0mdf\u001b[0m\u001b[1;33m[\u001b[0m\u001b[1;34m'reviewFinal'\u001b[0m\u001b[1;33m]\u001b[0m\u001b[1;33m\u001b[0m\u001b[1;33m\u001b[0m\u001b[0m\n\u001b[0m\u001b[0;32m      5\u001b[0m \u001b[0mresult\u001b[0m \u001b[1;33m=\u001b[0m \u001b[0mstr\u001b[0m\u001b[1;33m(\u001b[0m\u001b[0mtext\u001b[0m\u001b[1;33m)\u001b[0m \u001b[1;31m# trun words to strings\u001b[0m\u001b[1;33m\u001b[0m\u001b[1;33m\u001b[0m\u001b[0m\n\u001b[0;32m      6\u001b[0m \u001b[0mstop_words\u001b[0m \u001b[1;33m=\u001b[0m \u001b[1;33m[\u001b[0m\u001b[1;34m\"De\"\u001b[0m\u001b[1;33m,\u001b[0m \u001b[1;34m\"en\"\u001b[0m\u001b[1;33m,\u001b[0m\u001b[1;34m'ik'\u001b[0m\u001b[1;33m,\u001b[0m\u001b[1;34m'je'\u001b[0m\u001b[1;33m,\u001b[0m\u001b[1;34m'app'\u001b[0m\u001b[1;33m,\u001b[0m\u001b[1;34m'te'\u001b[0m\u001b[1;33m,\u001b[0m\u001b[1;34m'wel'\u001b[0m\u001b[1;33m,\u001b[0m\u001b[1;34m'op'\u001b[0m\u001b[1;33m,\u001b[0m\u001b[1;34m'dan'\u001b[0m\u001b[1;33m,\u001b[0m\u001b[1;34m'van'\u001b[0m\u001b[1;33m,\u001b[0m\u001b[1;34m'voor'\u001b[0m\u001b[1;33m,\u001b[0m\u001b[1;34m'al'\u001b[0m\u001b[1;33m,\u001b[0m\u001b[1;34m'weer'\u001b[0m\u001b[1;33m]\u001b[0m \u001b[1;33m+\u001b[0m \u001b[0mlist\u001b[0m\u001b[1;33m(\u001b[0m\u001b[0mSTOPWORDS\u001b[0m\u001b[1;33m)\u001b[0m \u001b[1;31m# feedback from Poster session\u001b[0m\u001b[1;33m\u001b[0m\u001b[1;33m\u001b[0m\u001b[0m\n",
      "\u001b[1;31mNameError\u001b[0m: name 'df' is not defined"
     ]
    }
   ],
   "source": [
    "#importing the WordCload \n",
    "from wordcloud import WordCloud, STOPWORDS \n",
    "# Read the whole text.\n",
    "text = df['reviewFinal']\n",
    "result = str(text) # trun words to strings\n",
    "stop_words = [\"De\", \"en\",'ik','je','app','te','wel','op','dan','van','voor','al','weer'] + list(STOPWORDS) # feedback from Poster session\n",
    "# Generate a word cloud image\n",
    "wordcloud = WordCloud(stopwords = stop_words, max_font_size=70, max_words=40, background_color=\"white\").generate(result)\n",
    "\n",
    "\n",
    "# Display the generated image:\n",
    "# the matplotlib way:\n",
    "import matplotlib.pyplot as plt\n",
    "plt.imshow(wordcloud, interpolation='bilinear')\n",
    "plt.axis(\"off\")\n",
    "plt.savefig('wordcloud.png', dpi=300)\n"
   ]
  },
  {
   "cell_type": "markdown",
   "metadata": {},
   "source": [
    "This WordCloud gives more insight. It seems that the app is receiving good reviews. \n",
    "To see what kind of words are beeing used to give a bad or good review, the categories are made. "
   ]
  },
  {
   "cell_type": "markdown",
   "metadata": {},
   "source": [
    "<h3> Creating a 'positive' WordCloud and a 'negative' WordCloud</h3>"
   ]
  },
  {
   "cell_type": "code",
   "execution_count": 11,
   "metadata": {},
   "outputs": [
    {
     "data": {
      "text/html": [
       "<div>\n",
       "<style scoped>\n",
       "    .dataframe tbody tr th:only-of-type {\n",
       "        vertical-align: middle;\n",
       "    }\n",
       "\n",
       "    .dataframe tbody tr th {\n",
       "        vertical-align: top;\n",
       "    }\n",
       "\n",
       "    .dataframe thead th {\n",
       "        text-align: right;\n",
       "    }\n",
       "</style>\n",
       "<table border=\"1\" class=\"dataframe\">\n",
       "  <thead>\n",
       "    <tr style=\"text-align: right;\">\n",
       "      <th></th>\n",
       "      <th>name</th>\n",
       "      <th>reviewFinal</th>\n",
       "      <th>stars</th>\n",
       "      <th>date</th>\n",
       "      <th>count_words1</th>\n",
       "      <th>starsPositive</th>\n",
       "      <th>starsNegative</th>\n",
       "    </tr>\n",
       "  </thead>\n",
       "  <tbody>\n",
       "    <tr>\n",
       "      <td>1159</td>\n",
       "      <td>Jilles Koedood</td>\n",
       "      <td>makkelijk en goed werkende app.</td>\n",
       "      <td>5</td>\n",
       "      <td>2019-12-18</td>\n",
       "      <td>5</td>\n",
       "      <td>True</td>\n",
       "      <td>False</td>\n",
       "    </tr>\n",
       "    <tr>\n",
       "      <td>1158</td>\n",
       "      <td>Rob Schellekens</td>\n",
       "      <td>ik probeer nu voor de derde keer (in 2 weken) ...</td>\n",
       "      <td>1</td>\n",
       "      <td>2019-12-18</td>\n",
       "      <td>45</td>\n",
       "      <td>False</td>\n",
       "      <td>True</td>\n",
       "    </tr>\n",
       "    <tr>\n",
       "      <td>1157</td>\n",
       "      <td>Erwin Drechsler</td>\n",
       "      <td>erg lastig als je de activatie wil voltooien d...</td>\n",
       "      <td>2</td>\n",
       "      <td>2019-12-18</td>\n",
       "      <td>31</td>\n",
       "      <td>False</td>\n",
       "      <td>True</td>\n",
       "    </tr>\n",
       "    <tr>\n",
       "      <td>1156</td>\n",
       "      <td>Gershwin Maarten</td>\n",
       "      <td>ik ben tevreden over de app en het is overzich...</td>\n",
       "      <td>5</td>\n",
       "      <td>2019-12-19</td>\n",
       "      <td>10</td>\n",
       "      <td>True</td>\n",
       "      <td>False</td>\n",
       "    </tr>\n",
       "    <tr>\n",
       "      <td>1138</td>\n",
       "      <td>Wim Koopman</td>\n",
       "      <td>waardeloos voor ouderen, je kunt beter al je g...</td>\n",
       "      <td>1</td>\n",
       "      <td>2019-12-19</td>\n",
       "      <td>21</td>\n",
       "      <td>False</td>\n",
       "      <td>True</td>\n",
       "    </tr>\n",
       "  </tbody>\n",
       "</table>\n",
       "</div>"
      ],
      "text/plain": [
       "                  name                                        reviewFinal  \\\n",
       "1159    Jilles Koedood                    makkelijk en goed werkende app.   \n",
       "1158   Rob Schellekens  ik probeer nu voor de derde keer (in 2 weken) ...   \n",
       "1157   Erwin Drechsler  erg lastig als je de activatie wil voltooien d...   \n",
       "1156  Gershwin Maarten  ik ben tevreden over de app en het is overzich...   \n",
       "1138       Wim Koopman  waardeloos voor ouderen, je kunt beter al je g...   \n",
       "\n",
       "      stars       date  count_words1  starsPositive  starsNegative  \n",
       "1159      5 2019-12-18             5           True          False  \n",
       "1158      1 2019-12-18            45          False           True  \n",
       "1157      2 2019-12-18            31          False           True  \n",
       "1156      5 2019-12-19            10           True          False  \n",
       "1138      1 2019-12-19            21          False           True  "
      ]
     },
     "execution_count": 11,
     "metadata": {},
     "output_type": "execute_result"
    }
   ],
   "source": [
    "df['starsPositive'] = df['stars'] >= 3 #when a review has equal to or more than 3 stars, it's labeled as postive\n",
    "df['starsNegative'] = df['stars'] < 3 #when a review has less than 3 stars, it's labeled as negative\n",
    "\n",
    "positive_review = df[df.starsPositive].reviewFinal #creating a new column for the new values.\n",
    "negative_review = df[df.starsNegative].reviewFinal\n",
    "\n",
    "positive_review_df = pd.DataFrame(df[df.starsPositive].reviewFinal)\n",
    "negative_review_df = pd.DataFrame(df[df.starsNegative].reviewFinal)\n",
    "df.head(5)\n"
   ]
  },
  {
   "cell_type": "markdown",
   "metadata": {},
   "source": [
    "<h3>Creating a 'postive' Word Cloud</h3>"
   ]
  },
  {
   "cell_type": "code",
   "execution_count": 12,
   "metadata": {},
   "outputs": [
    {
     "data": {
      "text/plain": [
       "(-0.5, 399.5, 199.5, -0.5)"
      ]
     },
     "execution_count": 12,
     "metadata": {},
     "output_type": "execute_result"
    },
    {
     "data": {
      "image/png": "[encoded data removed]",
      "text/plain": [
       "<Figure size 432x288 with 1 Axes>"
      ]
     },
     "metadata": {},
     "output_type": "display_data"
    }
   ],
   "source": [
    "# Read the whole text.\n",
    "text_positive = positive_review_df['reviewFinal']\n",
    "result_postive = str(text_positive)\n",
    "stop_words = [\"app\",\"De\", \"en\",\"van\",\"ik\", \"op\",\"het\",\"wat\",\"deze\",\"als\",\"met\",'een','voor','te','je','dus','weer'] + list(STOPWORDS) # feedback from Poster session\n",
    "# Generate a word cloud image\n",
    "wordcloud_positive = WordCloud(stopwords = stop_words,max_font_size=70, max_words=40, background_color=\"white\", color_func=lambda *args, **kwargs: (000,887,000)).generate(result_postive)\n",
    "\n",
    "# Display the generated image:\n",
    "# the matplotlib way:\n",
    "import matplotlib.pyplot as plt\n",
    "plt.imshow(wordcloud_positive, interpolation='bilinear')\n",
    "plt.axis(\"off\")\n",
    "#plt.savefig('wordcloud_postive.png', dpi=300)"
   ]
  },
  {
   "cell_type": "markdown",
   "metadata": {},
   "source": [
    "<h3>Creating a 'negative' Word Cloud</h3>"
   ]
  },
  {
   "cell_type": "code",
   "execution_count": 13,
   "metadata": {},
   "outputs": [
    {
     "data": {
      "image/png": "[encoded data removed]",
      "text/plain": [
       "<Figure size 432x288 with 1 Axes>"
      ]
     },
     "metadata": {},
     "output_type": "display_data"
    }
   ],
   "source": [
    "# Read the whole text.\n",
    "text_negative = negative_review_df['reviewFinal']\n",
    "result_negative = str(text_negative)\n",
    "\n",
    "# Generate a word cloud image\n",
    "wordcloud_negative = WordCloud(stopwords = stop_words, max_font_size=70, max_words=40, background_color=\"white\", color_func=lambda *args, **kwargs: (999,100,100)).generate(result_negative)\n",
    "\n",
    "# Display the generated image:\n",
    "# the matplotlib way:\n",
    "import matplotlib.pyplot as plt\n",
    "plt.imshow(wordcloud_negative, interpolation='bilinear')\n",
    "plt.axis(\"off\")\n",
    "plt.savefig('wordcloud_negative.png', dpi=300)"
   ]
  },
  {
   "cell_type": "code",
   "execution_count": 14,
   "metadata": {},
   "outputs": [
    {
     "data": {
      "text/html": [
       "<div>\n",
       "<style scoped>\n",
       "    .dataframe tbody tr th:only-of-type {\n",
       "        vertical-align: middle;\n",
       "    }\n",
       "\n",
       "    .dataframe tbody tr th {\n",
       "        vertical-align: top;\n",
       "    }\n",
       "\n",
       "    .dataframe thead th {\n",
       "        text-align: right;\n",
       "    }\n",
       "</style>\n",
       "<table border=\"1\" class=\"dataframe\">\n",
       "  <thead>\n",
       "    <tr style=\"text-align: right;\">\n",
       "      <th></th>\n",
       "      <th>name</th>\n",
       "      <th>reviewFinal</th>\n",
       "      <th>stars</th>\n",
       "      <th>date</th>\n",
       "      <th>count_words1</th>\n",
       "      <th>starsPositive</th>\n",
       "      <th>starsNegative</th>\n",
       "    </tr>\n",
       "  </thead>\n",
       "  <tbody>\n",
       "    <tr>\n",
       "      <td>1159</td>\n",
       "      <td>Jilles Koedood</td>\n",
       "      <td>makkelijk en goed werkende app.</td>\n",
       "      <td>5</td>\n",
       "      <td>2019-12-18</td>\n",
       "      <td>5</td>\n",
       "      <td>True</td>\n",
       "      <td>False</td>\n",
       "    </tr>\n",
       "    <tr>\n",
       "      <td>1158</td>\n",
       "      <td>Rob Schellekens</td>\n",
       "      <td>ik probeer nu voor de derde keer (in 2 weken) ...</td>\n",
       "      <td>1</td>\n",
       "      <td>2019-12-18</td>\n",
       "      <td>45</td>\n",
       "      <td>False</td>\n",
       "      <td>True</td>\n",
       "    </tr>\n",
       "    <tr>\n",
       "      <td>1157</td>\n",
       "      <td>Erwin Drechsler</td>\n",
       "      <td>erg lastig als je de activatie wil voltooien d...</td>\n",
       "      <td>2</td>\n",
       "      <td>2019-12-18</td>\n",
       "      <td>31</td>\n",
       "      <td>False</td>\n",
       "      <td>True</td>\n",
       "    </tr>\n",
       "    <tr>\n",
       "      <td>1156</td>\n",
       "      <td>Gershwin Maarten</td>\n",
       "      <td>ik ben tevreden over de app en het is overzich...</td>\n",
       "      <td>5</td>\n",
       "      <td>2019-12-19</td>\n",
       "      <td>10</td>\n",
       "      <td>True</td>\n",
       "      <td>False</td>\n",
       "    </tr>\n",
       "    <tr>\n",
       "      <td>1138</td>\n",
       "      <td>Wim Koopman</td>\n",
       "      <td>waardeloos voor ouderen, je kunt beter al je g...</td>\n",
       "      <td>1</td>\n",
       "      <td>2019-12-19</td>\n",
       "      <td>21</td>\n",
       "      <td>False</td>\n",
       "      <td>True</td>\n",
       "    </tr>\n",
       "  </tbody>\n",
       "</table>\n",
       "</div>"
      ],
      "text/plain": [
       "                  name                                        reviewFinal  \\\n",
       "1159    Jilles Koedood                    makkelijk en goed werkende app.   \n",
       "1158   Rob Schellekens  ik probeer nu voor de derde keer (in 2 weken) ...   \n",
       "1157   Erwin Drechsler  erg lastig als je de activatie wil voltooien d...   \n",
       "1156  Gershwin Maarten  ik ben tevreden over de app en het is overzich...   \n",
       "1138       Wim Koopman  waardeloos voor ouderen, je kunt beter al je g...   \n",
       "\n",
       "      stars       date  count_words1  starsPositive  starsNegative  \n",
       "1159      5 2019-12-18             5           True          False  \n",
       "1158      1 2019-12-18            45          False           True  \n",
       "1157      2 2019-12-18            31          False           True  \n",
       "1156      5 2019-12-19            10           True          False  \n",
       "1138      1 2019-12-19            21          False           True  "
      ]
     },
     "execution_count": 14,
     "metadata": {},
     "output_type": "execute_result"
    }
   ],
   "source": [
    "df.head(5)"
   ]
  },
  {
   "cell_type": "markdown",
   "metadata": {},
   "source": [
    "<font color=\"#5c5c3d\"><h2>Choosing a model</h2></font>\n",
    "<h3>bag-of-words model and Naïve Bayes</h3"
   ]
  },
  {
   "cell_type": "markdown",
   "metadata": {},
   "source": [
    "The <b>bag-of-words model</b> puts all the words toghther and counts them. It doesnt do anything with the meaning of the words. This could then be taken out of context. Its a simple yet effective model. "
   ]
  },
  {
   "cell_type": "markdown",
   "metadata": {},
   "source": [
    "The <b>Naïve Bayes model</b> assumes that the features used to predict, are independent. But ussually that is not the case. That's why it's called 'Naïve'. Despite that, it's workes well and is very accurate. \n",
    "\n",
    "With the Naïve Bayes model, we can predict if a text (based on the words) is in category B or category B. In this case, we are going to predict if a review is going to get a postive star rating(>3) or a negative star rating(<4). "
   ]
  },
  {
   "cell_type": "code",
   "execution_count": 15,
   "metadata": {},
   "outputs": [
    {
     "data": {
      "text/plain": [
       "5    483\n",
       "1    360\n",
       "4    195\n",
       "2     69\n",
       "3     53\n",
       "Name: stars, dtype: int64"
      ]
     },
     "execution_count": 15,
     "metadata": {},
     "output_type": "execute_result"
    }
   ],
   "source": [
    "df['stars'].value_counts()"
   ]
  },
  {
   "cell_type": "code",
   "execution_count": 16,
   "metadata": {},
   "outputs": [
    {
     "name": "stdout",
     "output_type": "stream",
     "text": [
      "There are 1603 words in the vocabulary. A selection: ['gevonden', 'gevraagd', 'geweigerd', 'geweldig', 'geweldige', 'gewone', 'gewoon', 'geworden', 'gewéldige', 'gezamenlijke', 'gezegd', 'gezichtsherkenning', 'gezien', 'gezondheid', 'geïnstalleerd', 'geüpdatet', 'gigantisch', 'ging', 'gji', 'gmail']\n"
     ]
    }
   ],
   "source": [
    "from sklearn.feature_extraction.text import CountVectorizer #The CountVectorizer object\n",
    "\n",
    "text = df['reviewFinal'].values.astype('U') #Taking the text from the df. We need to convert it to Unicode\n",
    "\n",
    "vect = CountVectorizer(stop_words='english') #Create the CV object, with English stop words\n",
    "vect = vect.fit(text) #We fit the model with the words from the review text\n",
    "vect\n",
    "feature_names = vect.get_feature_names() #Get the words from the vocabulary\n",
    "print(f\"There are {len(feature_names)} words in the vocabulary. A selection: {feature_names[500:520]}\")"
   ]
  },
  {
   "cell_type": "code",
   "execution_count": 17,
   "metadata": {},
   "outputs": [],
   "source": [
    "docu_feat = vect.transform(text) #The transform method from the CountVectorizer object creates the matrix"
   ]
  },
  {
   "cell_type": "code",
   "execution_count": 18,
   "metadata": {},
   "outputs": [],
   "source": [
    "y = df['stars'] #We need to take out the rating as our Y-variable\n",
    "X = docu_feat #this slices the dataframe to include all rows and the columns from \"action\" to \"metascore\""
   ]
  },
  {
   "cell_type": "code",
   "execution_count": 19,
   "metadata": {},
   "outputs": [],
   "source": [
    "from sklearn.model_selection import train_test_split\n",
    "X_train, X_test, y_train, y_test = train_test_split(X, y, test_size=0.3, random_state=1) #split the data, store it into different variables"
   ]
  },
  {
   "cell_type": "markdown",
   "metadata": {},
   "source": [
    "<b>Multinomial Naive Bayes</b>\n",
    "- [x] Works wel for classification of data with discrete features (count words)\n",
    "- [x] Useful for text processing\n",
    "- [x] Each review will be transformed to vector of word count\n",
    "- [ ] Doenst work with with negative numbers (in this case, there is are no negative numbers)"
   ]
  },
  {
   "cell_type": "code",
   "execution_count": 20,
   "metadata": {},
   "outputs": [
    {
     "data": {
      "text/plain": [
       "0.617816091954023"
      ]
     },
     "execution_count": 20,
     "metadata": {},
     "output_type": "execute_result"
    }
   ],
   "source": [
    "from sklearn.naive_bayes import MultinomialNB # importing the model from scikit-learn library\n",
    "clf = MultinomialNB(alpha=1.0, fit_prior=True, class_prior=[0.7,.32,.21,.22,.7]) #setting the parameters\n",
    "clf.fit(X_train, y_train) # adding only the train data\n",
    "clf.score(X_test, y_test) # gives the mean accurracy of the test data"
   ]
  },
  {
   "cell_type": "markdown",
   "metadata": {},
   "source": [
    "The model has an accurracy of 61% at the moment. This could be improved. We can find out how by making a Confusion Matrix and a Classification report."
   ]
  },
  {
   "cell_type": "markdown",
   "metadata": {},
   "source": [
    "<h3>Confusion Matrix & Classification report - round 1 </h3>"
   ]
  },
  {
   "cell_type": "code",
   "execution_count": 21,
   "metadata": {},
   "outputs": [
    {
     "data": {
      "text/plain": [
       "Text(0.5, 1.0, 'Confusion matrix (before improving)')"
      ]
     },
     "execution_count": 21,
     "metadata": {},
     "output_type": "execute_result"
    },
    {
     "data": {
      "image/png": "[encoded data removed]",
      "text/plain": [
       "<Figure size 720x504 with 2 Axes>"
      ]
     },
     "metadata": {},
     "output_type": "display_data"
    }
   ],
   "source": [
    "#In order to read it easily , let's make a dataframe, plot out of it, and add labels to it.\n",
    "from sklearn.metrics import confusion_matrix\n",
    "import seaborn as sn\n",
    "\n",
    "y_test_pred = clf.predict(X_test) #the predicted values\n",
    "cm = confusion_matrix(y_test, y_test_pred) #creates a \"confusion matrix\"\n",
    "\n",
    "conf_matrix = pd.DataFrame(cm, index=['1 star', '2 stars', '3 stars', '4 stars','5 stars'], columns = ['1 star p', '2 stars p','3 stars p','4 stars p','5 stars p']) \n",
    "\n",
    "plt.figure(figsize = (10,7))\n",
    "sn.heatmap(conf_matrix, annot=True, cmap=\"copper_r\", fmt='g') # the style of the matrix\n",
    "plt.title('Confusion matrix (before improving)')\n",
    "#plt.savefig('confusionMatrix.png', dpi=300)"
   ]
  },
  {
   "cell_type": "markdown",
   "metadata": {},
   "source": [
    "We can see that the model is prediting the extreme's better. This could be because there are more reviews of 1 or 5 stars. The model has more material te work with than the other ratings. Adding more data about the other ratings, might improve the model. "
   ]
  },
  {
   "cell_type": "code",
   "execution_count": 22,
   "metadata": {},
   "outputs": [
    {
     "data": {
      "text/plain": [
       "5    483\n",
       "1    360\n",
       "4    195\n",
       "2     69\n",
       "3     53\n",
       "Name: stars, dtype: int64"
      ]
     },
     "execution_count": 22,
     "metadata": {},
     "output_type": "execute_result"
    }
   ],
   "source": [
    "df['stars'].value_counts() # the amount of ratings "
   ]
  },
  {
   "cell_type": "code",
   "execution_count": 23,
   "metadata": {},
   "outputs": [
    {
     "data": {
      "text/plain": [
       "array([1, 2, 3, 4, 5], dtype=int64)"
      ]
     },
     "execution_count": 23,
     "metadata": {},
     "output_type": "execute_result"
    }
   ],
   "source": [
    "clf.classes_ #to see the labels"
   ]
  },
  {
   "cell_type": "code",
   "execution_count": 24,
   "metadata": {},
   "outputs": [
    {
     "name": "stdout",
     "output_type": "stream",
     "text": [
      "              precision    recall  f1-score   support\n",
      "\n",
      "      1 star       0.59      0.85      0.70       105\n",
      "     2 stars       0.25      0.07      0.11        27\n",
      "     3 stars       0.00      0.00      0.00        14\n",
      "     4 stars       0.00      0.00      0.00        61\n",
      "     5 stars       0.67      0.88      0.76       141\n",
      "\n",
      "   micro avg       0.62      0.62      0.62       348\n",
      "   macro avg       0.30      0.36      0.31       348\n",
      "weighted avg       0.47      0.62      0.53       348\n",
      "\n"
     ]
    }
   ],
   "source": [
    "from sklearn.metrics import classification_report\n",
    "target_names = ['1 star', '2 stars', '3 stars', '4 stars','5 stars']\n",
    "print(classification_report(y_test, y_test_pred, target_names=target_names))"
   ]
  },
  {
   "cell_type": "markdown",
   "metadata": {},
   "source": [
    "<b>Classification report</b>\n",
    "\n",
    "\n",
    "\n",
    "<b>recall: </b>\n",
    ">How many of the real X star is predicted as X star? \n",
    ">The model is doing well with the recall of the 1 and 5 star reviews. \n",
    "\n",
    "<b>precision: </b>\n",
    ">How many of the predicted X star reviews are actually X star? \n",
    ">The model can predict that 59% of 1 star ratings are 1 star ratings, but for the 2 stars it only 25%. \n",
    "\n",
    "The model is doing well for the extreme ratings, because there is more data about them, than for the others. \n"
   ]
  },
  {
   "cell_type": "markdown",
   "metadata": {},
   "source": [
    "# Improving the model"
   ]
  },
  {
   "cell_type": "markdown",
   "metadata": {},
   "source": [
    "Because there is not much data about the 2,3 and 4 ratings, we can put categorize them. The model could then be improved if two categories are made, instead of 5."
   ]
  },
  {
   "cell_type": "code",
   "execution_count": 25,
   "metadata": {},
   "outputs": [
    {
     "name": "stderr",
     "output_type": "stream",
     "text": [
      "C:\\Users\\geja_\\Anaconda3\\lib\\site-packages\\pandas\\core\\indexing.py:494: SettingWithCopyWarning: \n",
      "A value is trying to be set on a copy of a slice from a DataFrame.\n",
      "Try using .loc[row_indexer,col_indexer] = value instead\n",
      "\n",
      "See the caveats in the documentation: http://pandas.pydata.org/pandas-docs/stable/user_guide/indexing.html#returning-a-view-versus-a-copy\n",
      "  self.obj[item] = s\n",
      "C:\\Users\\geja_\\Anaconda3\\lib\\site-packages\\pandas\\core\\indexing.py:205: SettingWithCopyWarning: \n",
      "A value is trying to be set on a copy of a slice from a DataFrame\n",
      "\n",
      "See the caveats in the documentation: http://pandas.pydata.org/pandas-docs/stable/user_guide/indexing.html#returning-a-view-versus-a-copy\n",
      "  self._setitem_with_indexer(indexer, value)\n",
      "C:\\Users\\geja_\\Anaconda3\\lib\\site-packages\\ipykernel_launcher.py:10: SettingWithCopyWarning: \n",
      "A value is trying to be set on a copy of a slice from a DataFrame\n",
      "\n",
      "See the caveats in the documentation: http://pandas.pydata.org/pandas-docs/stable/user_guide/indexing.html#returning-a-view-versus-a-copy\n",
      "  # Remove the CWD from sys.path while we load stuff.\n",
      "C:\\Users\\geja_\\Anaconda3\\lib\\site-packages\\ipykernel_launcher.py:8: SettingWithCopyWarning: \n",
      "A value is trying to be set on a copy of a slice from a DataFrame\n",
      "\n",
      "See the caveats in the documentation: http://pandas.pydata.org/pandas-docs/stable/user_guide/indexing.html#returning-a-view-versus-a-copy\n",
      "  \n"
     ]
    },
    {
     "data": {
      "text/html": [
       "<div>\n",
       "<style scoped>\n",
       "    .dataframe tbody tr th:only-of-type {\n",
       "        vertical-align: middle;\n",
       "    }\n",
       "\n",
       "    .dataframe tbody tr th {\n",
       "        vertical-align: top;\n",
       "    }\n",
       "\n",
       "    .dataframe thead th {\n",
       "        text-align: right;\n",
       "    }\n",
       "</style>\n",
       "<table border=\"1\" class=\"dataframe\">\n",
       "  <thead>\n",
       "    <tr style=\"text-align: right;\">\n",
       "      <th></th>\n",
       "      <th>name</th>\n",
       "      <th>stars</th>\n",
       "      <th>reviewFinal</th>\n",
       "    </tr>\n",
       "  </thead>\n",
       "  <tbody>\n",
       "    <tr>\n",
       "      <td>1159</td>\n",
       "      <td>Jilles Koedood</td>\n",
       "      <td>positive</td>\n",
       "      <td>makkelijk en goed werkende app.</td>\n",
       "    </tr>\n",
       "    <tr>\n",
       "      <td>1158</td>\n",
       "      <td>Rob Schellekens</td>\n",
       "      <td>negative</td>\n",
       "      <td>ik probeer nu voor de derde keer (in 2 weken) ...</td>\n",
       "    </tr>\n",
       "    <tr>\n",
       "      <td>1157</td>\n",
       "      <td>Erwin Drechsler</td>\n",
       "      <td>negative</td>\n",
       "      <td>erg lastig als je de activatie wil voltooien d...</td>\n",
       "    </tr>\n",
       "    <tr>\n",
       "      <td>1156</td>\n",
       "      <td>Gershwin Maarten</td>\n",
       "      <td>positive</td>\n",
       "      <td>ik ben tevreden over de app en het is overzich...</td>\n",
       "    </tr>\n",
       "    <tr>\n",
       "      <td>1138</td>\n",
       "      <td>Wim Koopman</td>\n",
       "      <td>negative</td>\n",
       "      <td>waardeloos voor ouderen, je kunt beter al je g...</td>\n",
       "    </tr>\n",
       "    <tr>\n",
       "      <td>...</td>\n",
       "      <td>...</td>\n",
       "      <td>...</td>\n",
       "      <td>...</td>\n",
       "    </tr>\n",
       "    <tr>\n",
       "      <td>26</td>\n",
       "      <td>Rita Verweij</td>\n",
       "      <td>positive</td>\n",
       "      <td>handzame/duidelijke app! perfect.</td>\n",
       "    </tr>\n",
       "    <tr>\n",
       "      <td>25</td>\n",
       "      <td>Monique Stevens</td>\n",
       "      <td>negative</td>\n",
       "      <td>oké</td>\n",
       "    </tr>\n",
       "    <tr>\n",
       "      <td>24</td>\n",
       "      <td>Mau Tricia</td>\n",
       "      <td>positive</td>\n",
       "      <td>veilig en prima</td>\n",
       "    </tr>\n",
       "    <tr>\n",
       "      <td>33</td>\n",
       "      <td>Pearl Uyttenhove</td>\n",
       "      <td>negative</td>\n",
       "      <td>voor de uodates van deze klote appp moest ik v...</td>\n",
       "    </tr>\n",
       "    <tr>\n",
       "      <td>0</td>\n",
       "      <td>Paul Zuijdwijjk</td>\n",
       "      <td>positive</td>\n",
       "      <td>werkt perfect</td>\n",
       "    </tr>\n",
       "  </tbody>\n",
       "</table>\n",
       "<p>1160 rows × 3 columns</p>\n",
       "</div>"
      ],
      "text/plain": [
       "                  name     stars  \\\n",
       "1159    Jilles Koedood  positive   \n",
       "1158   Rob Schellekens  negative   \n",
       "1157   Erwin Drechsler  negative   \n",
       "1156  Gershwin Maarten  positive   \n",
       "1138       Wim Koopman  negative   \n",
       "...                ...       ...   \n",
       "26        Rita Verweij  positive   \n",
       "25     Monique Stevens  negative   \n",
       "24          Mau Tricia  positive   \n",
       "33    Pearl Uyttenhove  negative   \n",
       "0      Paul Zuijdwijjk  positive   \n",
       "\n",
       "                                            reviewFinal  \n",
       "1159                    makkelijk en goed werkende app.  \n",
       "1158  ik probeer nu voor de derde keer (in 2 weken) ...  \n",
       "1157  erg lastig als je de activatie wil voltooien d...  \n",
       "1156  ik ben tevreden over de app en het is overzich...  \n",
       "1138  waardeloos voor ouderen, je kunt beter al je g...  \n",
       "...                                                 ...  \n",
       "26                    handzame/duidelijke app! perfect.  \n",
       "25                                                  oké  \n",
       "24                                      veilig en prima  \n",
       "33    voor de uodates van deze klote appp moest ik v...  \n",
       "0                                         werkt perfect  \n",
       "\n",
       "[1160 rows x 3 columns]"
      ]
     },
     "execution_count": 25,
     "metadata": {},
     "output_type": "execute_result"
    }
   ],
   "source": [
    "# make a new df\n",
    "df_round_2 = df[['name','stars','reviewFinal']]\n",
    "df_round_2 .head(5)\n",
    "\n",
    "# making two categories out of the star ratings\n",
    "for row in range(0, len(df_round_2 )):\n",
    "    if (df_round_2 .iloc[row, 1] > 3):\n",
    "        df_round_2 .iloc[row, 1] = \"positive\"\n",
    "    else:\n",
    "        df_round_2 .iloc[row, 1] = \"negative\"\n",
    "        \n",
    "df_round_2 "
   ]
  },
  {
   "cell_type": "code",
   "execution_count": 26,
   "metadata": {},
   "outputs": [
    {
     "data": {
      "text/plain": [
       "positive    678\n",
       "negative    482\n",
       "Name: stars, dtype: int64"
      ]
     },
     "execution_count": 26,
     "metadata": {},
     "output_type": "execute_result"
    }
   ],
   "source": [
    "df_round_2['stars'].value_counts()"
   ]
  },
  {
   "cell_type": "code",
   "execution_count": 27,
   "metadata": {},
   "outputs": [
    {
     "name": "stdout",
     "output_type": "stream",
     "text": [
      "There are 1603 words in the vocabulary. A selection: ['gevonden', 'gevraagd', 'geweigerd', 'geweldig', 'geweldige', 'gewone', 'gewoon', 'geworden', 'gewéldige', 'gezamenlijke', 'gezegd', 'gezichtsherkenning', 'gezien', 'gezondheid', 'geïnstalleerd', 'geüpdatet', 'gigantisch', 'ging', 'gji', 'gmail']\n"
     ]
    }
   ],
   "source": [
    "from sklearn.feature_extraction import text \n",
    "text_2 = df_round_2['reviewFinal'].values.astype('U') #Taking the text from the df. We need to convert it to Unicode\n",
    "\n",
    "#stop_words_round2 = [\"mensen\",\"De\", \"en\",\"van\",\"ik\", \"op\",\"het\",\"wat\",\"deze\",\"als\",\"met\"]\n",
    "#text_2= [word for word in text_2 if word not in stop_words_round2]\n",
    "\n",
    "vect_2 = CountVectorizer(stop_words='dutch') #Create the CV object, with English stop words\n",
    "\n",
    "vect_2 = vect.fit(text_2) #We fit the model with the words from the review text\n",
    "feature_names_2 = vect.get_feature_names() #Get the words from the vocabulary\n",
    "print(f\"There are {len(feature_names_2)} words in the vocabulary. A selection: {feature_names[500:520]}\")"
   ]
  },
  {
   "cell_type": "code",
   "execution_count": 28,
   "metadata": {},
   "outputs": [
    {
     "data": {
      "text/plain": [
       "0.8879310344827587"
      ]
     },
     "execution_count": 28,
     "metadata": {},
     "output_type": "execute_result"
    }
   ],
   "source": [
    "docu_feat_2 = vect.transform(text_2) #The transform method from the CountVectorizer object creates the matrix\n",
    "y = df_round_2['stars'] #We need to take out the rating as our Y-variable\n",
    "X = docu_feat_2 #this slices the dataframe to include all rows and the columns from \"action\" to \"metascore\"\n",
    "\n",
    "from sklearn.model_selection import train_test_split\n",
    "X_train, X_test, y_train, y_test = train_test_split(X, y, test_size=0.3, random_state=1) #split the data, store it into different variables\n",
    "\n",
    "from sklearn.naive_bayes import MultinomialNB # importing the model from scikit-learn library\n",
    "clf_2 = MultinomialNB() #setting the parameters, default works best\n",
    "clf_2.fit(X_train, y_train) # adding only the train data\n",
    "clf_2.score(X_test, y_test) # gives the mean accurracy of the test data"
   ]
  },
  {
   "cell_type": "markdown",
   "metadata": {},
   "source": [
    "That looks better! Now making a second confusion matrix, the prediction can be analized further."
   ]
  },
  {
   "cell_type": "code",
   "execution_count": 29,
   "metadata": {},
   "outputs": [
    {
     "data": {
      "text/plain": [
       "positive    0.584483\n",
       "negative    0.415517\n",
       "Name: stars, dtype: float64"
      ]
     },
     "execution_count": 29,
     "metadata": {},
     "output_type": "execute_result"
    }
   ],
   "source": [
    "df_round_2['stars'].value_counts(normalize=True)"
   ]
  },
  {
   "cell_type": "code",
   "execution_count": 30,
   "metadata": {},
   "outputs": [
    {
     "data": {
      "text/plain": [
       "array(['negative', 'positive'], dtype='<U8')"
      ]
     },
     "execution_count": 30,
     "metadata": {},
     "output_type": "execute_result"
    }
   ],
   "source": [
    "clf_2.classes_ # to see the labels"
   ]
  },
  {
   "cell_type": "markdown",
   "metadata": {},
   "source": [
    "<h3>Confusion Matrix & Classification report - round 2 </h3>"
   ]
  },
  {
   "cell_type": "code",
   "execution_count": 31,
   "metadata": {},
   "outputs": [
    {
     "data": {
      "text/plain": [
       "Text(0.5, 1.0, 'Confusion matrix (after improvement)')"
      ]
     },
     "execution_count": 31,
     "metadata": {},
     "output_type": "execute_result"
    },
    {
     "data": {
      "image/png": "[encoded data removed]",
      "text/plain": [
       "<Figure size 720x504 with 2 Axes>"
      ]
     },
     "metadata": {},
     "output_type": "display_data"
    }
   ],
   "source": [
    "y_test_pred_2 = clf_2.predict(X_test) #the predicted values\n",
    "cm_2 = confusion_matrix(y_test, y_test_pred_2) #creates a \"confusion matrix\"\n",
    "\n",
    "conf_matrix_2 = pd.DataFrame(cm_2, index=['negative', 'positive'], columns = ['negative p', 'positive p']) \n",
    "\n",
    "plt.figure(figsize = (10,7))\n",
    "sn.heatmap(conf_matrix_2, annot=True, cmap=\"copper_r\", fmt='g') # the style of the matrix\n",
    "plt.title('Confusion matrix (after improvement)')\n",
    "#plt.savefig('confusionMatrix.png', dpi=300)"
   ]
  },
  {
   "cell_type": "code",
   "execution_count": 32,
   "metadata": {},
   "outputs": [
    {
     "name": "stdout",
     "output_type": "stream",
     "text": [
      "              precision    recall  f1-score   support\n",
      "\n",
      "    negative       0.90      0.83      0.86       146\n",
      "    positive       0.88      0.93      0.91       202\n",
      "\n",
      "   micro avg       0.89      0.89      0.89       348\n",
      "   macro avg       0.89      0.88      0.88       348\n",
      "weighted avg       0.89      0.89      0.89       348\n",
      "\n"
     ]
    }
   ],
   "source": [
    "from sklearn.metrics import classification_report\n",
    "print(classification_report(y_test, y_test_pred_2))"
   ]
  },
  {
   "cell_type": "markdown",
   "metadata": {},
   "source": [
    "The model is doing much better now. \n",
    "\n",
    ">recall: The model is doing better with the recall of compared to round 1. \n",
    "\n",
    ">precision: The model can predict that 90% of negative ratings are indeed negative."
   ]
  },
  {
   "cell_type": "markdown",
   "metadata": {},
   "source": [
    "<font color=\"#5c5c3d\"><h2>Evaluation</h2></font>"
   ]
  },
  {
   "cell_type": "markdown",
   "metadata": {},
   "source": [
    "By looking at the model in detail, we can analize and evaluate the model better. "
   ]
  },
  {
   "cell_type": "code",
   "execution_count": 33,
   "metadata": {},
   "outputs": [
    {
     "name": "stderr",
     "output_type": "stream",
     "text": [
      "C:\\Users\\geja_\\Anaconda3\\lib\\site-packages\\ipykernel_launcher.py:2: SettingWithCopyWarning: \n",
      "A value is trying to be set on a copy of a slice from a DataFrame.\n",
      "Try using .loc[row_indexer,col_indexer] = value instead\n",
      "\n",
      "See the caveats in the documentation: http://pandas.pydata.org/pandas-docs/stable/user_guide/indexing.html#returning-a-view-versus-a-copy\n",
      "  \n",
      "C:\\Users\\geja_\\Anaconda3\\lib\\site-packages\\ipykernel_launcher.py:3: SettingWithCopyWarning: \n",
      "A value is trying to be set on a copy of a slice from a DataFrame.\n",
      "Try using .loc[row_indexer,col_indexer] = value instead\n",
      "\n",
      "See the caveats in the documentation: http://pandas.pydata.org/pandas-docs/stable/user_guide/indexing.html#returning-a-view-versus-a-copy\n",
      "  This is separate from the ipykernel package so we can avoid doing imports until\n",
      "C:\\Users\\geja_\\Anaconda3\\lib\\site-packages\\pandas\\core\\indexing.py:205: SettingWithCopyWarning: \n",
      "A value is trying to be set on a copy of a slice from a DataFrame\n",
      "\n",
      "See the caveats in the documentation: http://pandas.pydata.org/pandas-docs/stable/user_guide/indexing.html#returning-a-view-versus-a-copy\n",
      "  self._setitem_with_indexer(indexer, value)\n",
      "C:\\Users\\geja_\\Anaconda3\\lib\\site-packages\\ipykernel_launcher.py:7: SettingWithCopyWarning: \n",
      "A value is trying to be set on a copy of a slice from a DataFrame\n",
      "\n",
      "See the caveats in the documentation: http://pandas.pydata.org/pandas-docs/stable/user_guide/indexing.html#returning-a-view-versus-a-copy\n",
      "  import sys\n",
      "C:\\Users\\geja_\\Anaconda3\\lib\\site-packages\\ipykernel_launcher.py:8: SettingWithCopyWarning: \n",
      "A value is trying to be set on a copy of a slice from a DataFrame\n",
      "\n",
      "See the caveats in the documentation: http://pandas.pydata.org/pandas-docs/stable/user_guide/indexing.html#returning-a-view-versus-a-copy\n",
      "  \n"
     ]
    },
    {
     "data": {
      "text/html": [
       "<div>\n",
       "<style scoped>\n",
       "    .dataframe tbody tr th:only-of-type {\n",
       "        vertical-align: middle;\n",
       "    }\n",
       "\n",
       "    .dataframe tbody tr th {\n",
       "        vertical-align: top;\n",
       "    }\n",
       "\n",
       "    .dataframe thead th {\n",
       "        text-align: right;\n",
       "    }\n",
       "</style>\n",
       "<table border=\"1\" class=\"dataframe\">\n",
       "  <thead>\n",
       "    <tr style=\"text-align: right;\">\n",
       "      <th></th>\n",
       "      <th>name</th>\n",
       "      <th>stars</th>\n",
       "      <th>reviewFinal</th>\n",
       "      <th>Negative probabilty</th>\n",
       "      <th>Positive probabilty</th>\n",
       "    </tr>\n",
       "  </thead>\n",
       "  <tbody>\n",
       "    <tr>\n",
       "      <td>1159</td>\n",
       "      <td>Jilles Koedood</td>\n",
       "      <td>positive</td>\n",
       "      <td>makkelijk en goed werkende app.</td>\n",
       "      <td>0.0003</td>\n",
       "      <td>0.9997</td>\n",
       "    </tr>\n",
       "    <tr>\n",
       "      <td>1158</td>\n",
       "      <td>Rob Schellekens</td>\n",
       "      <td>negative</td>\n",
       "      <td>ik probeer nu voor de derde keer (in 2 weken) ...</td>\n",
       "      <td>1.0000</td>\n",
       "      <td>0.0000</td>\n",
       "    </tr>\n",
       "    <tr>\n",
       "      <td>1157</td>\n",
       "      <td>Erwin Drechsler</td>\n",
       "      <td>negative</td>\n",
       "      <td>erg lastig als je de activatie wil voltooien d...</td>\n",
       "      <td>1.0000</td>\n",
       "      <td>0.0000</td>\n",
       "    </tr>\n",
       "    <tr>\n",
       "      <td>1156</td>\n",
       "      <td>Gershwin Maarten</td>\n",
       "      <td>positive</td>\n",
       "      <td>ik ben tevreden over de app en het is overzich...</td>\n",
       "      <td>0.0106</td>\n",
       "      <td>0.9894</td>\n",
       "    </tr>\n",
       "    <tr>\n",
       "      <td>1138</td>\n",
       "      <td>Wim Koopman</td>\n",
       "      <td>negative</td>\n",
       "      <td>waardeloos voor ouderen, je kunt beter al je g...</td>\n",
       "      <td>1.0000</td>\n",
       "      <td>0.0000</td>\n",
       "    </tr>\n",
       "  </tbody>\n",
       "</table>\n",
       "</div>"
      ],
      "text/plain": [
       "                  name     stars  \\\n",
       "1159    Jilles Koedood  positive   \n",
       "1158   Rob Schellekens  negative   \n",
       "1157   Erwin Drechsler  negative   \n",
       "1156  Gershwin Maarten  positive   \n",
       "1138       Wim Koopman  negative   \n",
       "\n",
       "                                            reviewFinal  Negative probabilty  \\\n",
       "1159                    makkelijk en goed werkende app.               0.0003   \n",
       "1158  ik probeer nu voor de derde keer (in 2 weken) ...               1.0000   \n",
       "1157  erg lastig als je de activatie wil voltooien d...               1.0000   \n",
       "1156  ik ben tevreden over de app en het is overzich...               0.0106   \n",
       "1138  waardeloos voor ouderen, je kunt beter al je g...               1.0000   \n",
       "\n",
       "      Positive probabilty  \n",
       "1159               0.9997  \n",
       "1158               0.0000  \n",
       "1157               0.0000  \n",
       "1156               0.9894  \n",
       "1138               0.0000  "
      ]
     },
     "execution_count": 33,
     "metadata": {},
     "output_type": "execute_result"
    }
   ],
   "source": [
    "# creating new columns with the predicting outcome in the main dataframe\n",
    "df_round_2[\"Negative probabilty\"] = 0\n",
    "df_round_2[\"Positive probabilty\"] = 0\n",
    "\n",
    "for i in range(0, len(df_round_2)):\n",
    "    prob = clf_2.predict_proba(X[i])\n",
    "    df_round_2[\"Negative probabilty\"].iloc[i] = prob[0,0]\n",
    "    df_round_2[\"Positive probabilty\"].iloc[i] = prob[0,1]\n",
    "    \n",
    "df_round_2['Positive probabilty'].value_counts(normalize=True)\n",
    "df_round_2['Negative probabilty'].value_counts(normalize=True)\n",
    "\n",
    "pd.set_option('display.float_format', '{:.4f}'.format) # convert scientific notation \n",
    "df_round_2.head(5)"
   ]
  },
  {
   "cell_type": "code",
   "execution_count": 34,
   "metadata": {},
   "outputs": [
    {
     "name": "stdout",
     "output_type": "stream",
     "text": [
      "Review by: 0. Jilles Koedood\n",
      "makkelijk en goed werkende app.\n",
      "positive\n",
      "Negative: 0.0003041133397763022, Positive: 0.9996958866602247\n",
      "Review by: 1. Rob Schellekens\n",
      "ik probeer nu voor de derde keer (in 2 weken) de update te installeren. lukt niet. blijft hangen in \"wachten op downloaden\". daar zal dan wel \"heel lang wachten\" mee bedoelt worden. ik kan dus niet bij m'n berichten. wie heeft dat eigenlijk onder beheer?\n",
      "negative\n",
      "Negative: 0.9999999999994884, Positive: 5.053350536280043e-13\n",
      "Review by: 2. Erwin Drechsler\n",
      "erg lastig als je de activatie wil voltooien door een id bewijs tegen de achterkant van je telefoon te houden en er vervolgens niets gebeurd... werkt weer als de overheid.... niet\n",
      "negative\n",
      "Negative: 0.9999999196790302, Positive: 8.032097882397885e-08\n",
      "Review by: 3. Gershwin Maarten\n",
      "ik ben tevreden over de app en het is overzichtelijk.\n",
      "positive\n",
      "Negative: 0.010560917982779229, Positive: 0.9894390820172233\n",
      "Review by: 4. Wim Koopman\n",
      "waardeloos voor ouderen, je kunt beter al je gegevens aan iemand geven, maar ja dan heb je weer de priviciewet .\n",
      "negative\n",
      "Negative: 0.999998959313787, Positive: 1.0406862085319128e-06\n"
     ]
    }
   ],
   "source": [
    "# creating a for loop to see what the review was, the rating and the probabilty %\n",
    "for i in range(5):\n",
    "    prob = clf_2.predict_proba(X[i]) # probabilty function\n",
    "    print(f\"Review by: {i}. {df_round_2.iloc[i,0]}\") \n",
    "    print(df_round_2.iloc[i, 2]) \n",
    "    print(df_round_2.iloc[i, 1])\n",
    "    print(f\"Negative: {prob[0,0]}, Positive: {prob[0,1]}\")"
   ]
  },
  {
   "cell_type": "markdown",
   "metadata": {},
   "source": [
    "The accuraccy for most reviews is pretty high. But I would like to see where it goes wrong. "
   ]
  },
  {
   "cell_type": "code",
   "execution_count": 35,
   "metadata": {},
   "outputs": [
    {
     "data": {
      "text/html": [
       "<div>\n",
       "<style scoped>\n",
       "    .dataframe tbody tr th:only-of-type {\n",
       "        vertical-align: middle;\n",
       "    }\n",
       "\n",
       "    .dataframe tbody tr th {\n",
       "        vertical-align: top;\n",
       "    }\n",
       "\n",
       "    .dataframe thead th {\n",
       "        text-align: right;\n",
       "    }\n",
       "</style>\n",
       "<table border=\"1\" class=\"dataframe\">\n",
       "  <thead>\n",
       "    <tr style=\"text-align: right;\">\n",
       "      <th></th>\n",
       "      <th>name</th>\n",
       "      <th>stars</th>\n",
       "      <th>reviewFinal</th>\n",
       "      <th>Negative probabilty</th>\n",
       "      <th>Positive probabilty</th>\n",
       "    </tr>\n",
       "  </thead>\n",
       "  <tbody>\n",
       "    <tr>\n",
       "      <td>1136</td>\n",
       "      <td>Failed to load Please try again</td>\n",
       "      <td>positive</td>\n",
       "      <td>alles ging goed tot ik me inloggegevens vergat...</td>\n",
       "      <td>1.0000</td>\n",
       "      <td>0.0000</td>\n",
       "    </tr>\n",
       "    <tr>\n",
       "      <td>1083</td>\n",
       "      <td>ArieJan Hoogeboom</td>\n",
       "      <td>positive</td>\n",
       "      <td>waarom elke keer update? krijg hem niet opgeda...</td>\n",
       "      <td>0.9911</td>\n",
       "      <td>0.0089</td>\n",
       "    </tr>\n",
       "    <tr>\n",
       "      <td>1093</td>\n",
       "      <td>Marc Stout</td>\n",
       "      <td>positive</td>\n",
       "      <td>ik moet steeds op nieuw de qr code scannen ter...</td>\n",
       "      <td>1.0000</td>\n",
       "      <td>0.0000</td>\n",
       "    </tr>\n",
       "    <tr>\n",
       "      <td>994</td>\n",
       "      <td>Wyb Bijlsma</td>\n",
       "      <td>positive</td>\n",
       "      <td>is op dit moment moeilijk te downloaden, te ve...</td>\n",
       "      <td>0.9643</td>\n",
       "      <td>0.0357</td>\n",
       "    </tr>\n",
       "    <tr>\n",
       "      <td>749</td>\n",
       "      <td>Joke de Wit</td>\n",
       "      <td>positive</td>\n",
       "      <td>hoe vaak moet ik inloggen om eindelijk bij m'n...</td>\n",
       "      <td>0.9743</td>\n",
       "      <td>0.0257</td>\n",
       "    </tr>\n",
       "    <tr>\n",
       "      <td>647</td>\n",
       "      <td>Loes Spekman</td>\n",
       "      <td>positive</td>\n",
       "      <td>het is wat verwarrend. als je bent ingelogd he...</td>\n",
       "      <td>1.0000</td>\n",
       "      <td>0.0000</td>\n",
       "    </tr>\n",
       "    <tr>\n",
       "      <td>105</td>\n",
       "      <td>Floris Aukema</td>\n",
       "      <td>positive</td>\n",
       "      <td>app werkt goed. alleen vind ik dat ik overbodi...</td>\n",
       "      <td>1.0000</td>\n",
       "      <td>0.0000</td>\n",
       "    </tr>\n",
       "    <tr>\n",
       "      <td>73</td>\n",
       "      <td>JAS Wimmenhove</td>\n",
       "      <td>positive</td>\n",
       "      <td>lastig al die updaten. die uren duren</td>\n",
       "      <td>0.9958</td>\n",
       "      <td>0.0042</td>\n",
       "    </tr>\n",
       "    <tr>\n",
       "      <td>20</td>\n",
       "      <td>Loes Vd Bergh</td>\n",
       "      <td>positive</td>\n",
       "      <td>het scannen gaat wat lastig</td>\n",
       "      <td>0.9380</td>\n",
       "      <td>0.0620</td>\n",
       "    </tr>\n",
       "  </tbody>\n",
       "</table>\n",
       "</div>"
      ],
      "text/plain": [
       "                                 name     stars  \\\n",
       "1136  Failed to load Please try again  positive   \n",
       "1083                ArieJan Hoogeboom  positive   \n",
       "1093                       Marc Stout  positive   \n",
       "994                       Wyb Bijlsma  positive   \n",
       "749                       Joke de Wit  positive   \n",
       "647                      Loes Spekman  positive   \n",
       "105                     Floris Aukema  positive   \n",
       "73                     JAS Wimmenhove  positive   \n",
       "20                      Loes Vd Bergh  positive   \n",
       "\n",
       "                                            reviewFinal  Negative probabilty  \\\n",
       "1136  alles ging goed tot ik me inloggegevens vergat...               1.0000   \n",
       "1083  waarom elke keer update? krijg hem niet opgeda...               0.9911   \n",
       "1093  ik moet steeds op nieuw de qr code scannen ter...               1.0000   \n",
       "994   is op dit moment moeilijk te downloaden, te ve...               0.9643   \n",
       "749   hoe vaak moet ik inloggen om eindelijk bij m'n...               0.9743   \n",
       "647   het is wat verwarrend. als je bent ingelogd he...               1.0000   \n",
       "105   app werkt goed. alleen vind ik dat ik overbodi...               1.0000   \n",
       "73                lastig al die updaten. die uren duren               0.9958   \n",
       "20                          het scannen gaat wat lastig               0.9380   \n",
       "\n",
       "      Positive probabilty  \n",
       "1136               0.0000  \n",
       "1083               0.0089  \n",
       "1093               0.0000  \n",
       "994                0.0357  \n",
       "749                0.0257  \n",
       "647                0.0000  \n",
       "105                0.0000  \n",
       "73                 0.0042  \n",
       "20                 0.0620  "
      ]
     },
     "execution_count": 35,
     "metadata": {},
     "output_type": "execute_result"
    }
   ],
   "source": [
    "# creating a new dataframe with the wrong predictions (with the accuraccy of more than 90%)\n",
    "df_wrong_prediction = df_round_2[(df_round_2.stars == \"positive\") & (df_round_2[\"Positive probabilty\"] < 0.10)].iloc[0:10]\n",
    "df_wrong_prediction"
   ]
  },
  {
   "cell_type": "code",
   "execution_count": 36,
   "metadata": {},
   "outputs": [
    {
     "data": {
      "text/html": [
       "<div>\n",
       "<style scoped>\n",
       "    .dataframe tbody tr th:only-of-type {\n",
       "        vertical-align: middle;\n",
       "    }\n",
       "\n",
       "    .dataframe tbody tr th {\n",
       "        vertical-align: top;\n",
       "    }\n",
       "\n",
       "    .dataframe thead th {\n",
       "        text-align: right;\n",
       "    }\n",
       "</style>\n",
       "<table border=\"1\" class=\"dataframe\">\n",
       "  <thead>\n",
       "    <tr style=\"text-align: right;\">\n",
       "      <th></th>\n",
       "      <th>name</th>\n",
       "      <th>stars</th>\n",
       "      <th>reviewFinal</th>\n",
       "      <th>Negative probabilty</th>\n",
       "      <th>Positive probabilty</th>\n",
       "    </tr>\n",
       "  </thead>\n",
       "  <tbody>\n",
       "    <tr>\n",
       "      <td>1158</td>\n",
       "      <td>Rob Schellekens</td>\n",
       "      <td>negative</td>\n",
       "      <td>ik probeer nu voor de derde keer (in 2 weken) de update te installeren. lukt niet. blijft hangen in \"wachten op downloaden\". daar zal dan wel \"heel lang wachten\" mee bedoelt worden. ik kan dus niet bij m'n berichten. wie heeft dat eigenlijk onder beheer?</td>\n",
       "      <td>1.0000</td>\n",
       "      <td>0.0000</td>\n",
       "    </tr>\n",
       "    <tr>\n",
       "      <td>1157</td>\n",
       "      <td>Erwin Drechsler</td>\n",
       "      <td>negative</td>\n",
       "      <td>erg lastig als je de activatie wil voltooien door een id bewijs tegen de achterkant van je telefoon te houden en er vervolgens niets gebeurd... werkt weer als de overheid.... niet</td>\n",
       "      <td>1.0000</td>\n",
       "      <td>0.0000</td>\n",
       "    </tr>\n",
       "    <tr>\n",
       "      <td>1138</td>\n",
       "      <td>Wim Koopman</td>\n",
       "      <td>negative</td>\n",
       "      <td>waardeloos voor ouderen, je kunt beter al je gegevens aan iemand geven, maar ja dan heb je weer de priviciewet .</td>\n",
       "      <td>1.0000</td>\n",
       "      <td>0.0000</td>\n",
       "    </tr>\n",
       "    <tr>\n",
       "      <td>1141</td>\n",
       "      <td>Wim Kloonen</td>\n",
       "      <td>negative</td>\n",
       "      <td>nog nooit zo een onduidelijke app mee gemaakt.</td>\n",
       "      <td>0.9841</td>\n",
       "      <td>0.0159</td>\n",
       "    </tr>\n",
       "    <tr>\n",
       "      <td>1148</td>\n",
       "      <td>D. Broekhuis</td>\n",
       "      <td>negative</td>\n",
       "      <td>waarom zo moeilijk er kan toch ook een makkelijke veilige manier van activeren zijn</td>\n",
       "      <td>0.9746</td>\n",
       "      <td>0.0254</td>\n",
       "    </tr>\n",
       "  </tbody>\n",
       "</table>\n",
       "</div>"
      ],
      "text/plain": [
       "                 name     stars  \\\n",
       "1158  Rob Schellekens  negative   \n",
       "1157  Erwin Drechsler  negative   \n",
       "1138  Wim Koopman      negative   \n",
       "1141  Wim Kloonen      negative   \n",
       "1148  D. Broekhuis     negative   \n",
       "\n",
       "                                                                                                                                                                                                                                                         reviewFinal  \\\n",
       "1158  ik probeer nu voor de derde keer (in 2 weken) de update te installeren. lukt niet. blijft hangen in \"wachten op downloaden\". daar zal dan wel \"heel lang wachten\" mee bedoelt worden. ik kan dus niet bij m'n berichten. wie heeft dat eigenlijk onder beheer?   \n",
       "1157  erg lastig als je de activatie wil voltooien door een id bewijs tegen de achterkant van je telefoon te houden en er vervolgens niets gebeurd... werkt weer als de overheid.... niet                                                                              \n",
       "1138  waardeloos voor ouderen, je kunt beter al je gegevens aan iemand geven, maar ja dan heb je weer de priviciewet .                                                                                                                                                 \n",
       "1141  nog nooit zo een onduidelijke app mee gemaakt.                                                                                                                                                                                                                   \n",
       "1148  waarom zo moeilijk er kan toch ook een makkelijke veilige manier van activeren zijn                                                                                                                                                                              \n",
       "\n",
       "      Negative probabilty  Positive probabilty  \n",
       "1158 1.0000               0.0000                \n",
       "1157 1.0000               0.0000                \n",
       "1138 1.0000               0.0000                \n",
       "1141 0.9841               0.0159                \n",
       "1148 0.9746               0.0254                "
      ]
     },
     "execution_count": 36,
     "metadata": {},
     "output_type": "execute_result"
    }
   ],
   "source": [
    "# creating a new dataframe with the right predictions (with the accuraccy of more than 90%)\n",
    "pd.set_option('display.max_colwidth', -1) # to view the whole text\n",
    "df_right_prediction = df_round_2[(df_round_2.stars == \"negative\") & (df_round_2[\"Negative probabilty\"] > 0.90)].iloc[0:30]\n",
    "df_right_prediction.head(5)"
   ]
  },
  {
   "cell_type": "markdown",
   "metadata": {},
   "source": [
    "<b>Possible scenario's</b>\n",
    "\n",
    "The reviews rated as negative but were positive many words (compared to other good reviews we have seen). From the previous word count plot, it showed that the more words, the lower the rating. This could be the reason why the prediction was off. \n",
    "\n",
    "Also, there are certain similarities between the words used, such as 'werkt'. And words such as 'veilig' (save). The context matters. A user might say the app is 'not' <b>save</b> or 'feels' <b>save.</b> This might also be a factor. I would consider removing certain words that occur in both categories. "
   ]
  },
  {
   "cell_type": "markdown",
   "metadata": {},
   "source": [
    "<h3>Conclusion</h3>\n",
    "\n",
    "<h4> Another WordCloud </h4>\n",
    "\n",
    "From a model like this, the DigiD developers could find the obstacles for users so that the app can be improved. The model clusters negative and positive reviews based on certain factors. Finding the main factors for clustering the groups, developers could find an opportunity to improve the app. A WordCloud could give insight."
   ]
  },
  {
   "cell_type": "code",
   "execution_count": 37,
   "metadata": {},
   "outputs": [
    {
     "data": {
      "text/plain": [
       "(-0.5, 399.5, 199.5, -0.5)"
      ]
     },
     "execution_count": 37,
     "metadata": {},
     "output_type": "execute_result"
    },
    {
     "data": {
      "image/png": "[encoded data removed]",
      "text/plain": [
       "<Figure size 432x288 with 1 Axes>"
      ]
     },
     "metadata": {},
     "output_type": "display_data"
    }
   ],
   "source": [
    "# Read the whole text.\n",
    "text_final = df_right_prediction['reviewFinal']\n",
    "result_final = str(text_final) # trun words to strings\n",
    "stop_words = [\"De\", \"en\",'ik','je','app','te','wel','op','dan','van','voor','al','weer','nog',\n",
    "              'die','een','het','om','met','dit','wat','dat', 'als', 'aan', 'naar', 'bij', 'dat',\n",
    "              'nu', 'en', 'de', 'om', 'onder', 'ons', 'met', \"deze\", 'ook', \"dit\", \"die\",'er','dus','mijn','maar',\n",
    "              \"haar\", \"uit\", \"hierin\", \"hoe\", \"over\", \"wie\",\"na\", \"zijn\", 'werkt','worden', 'niet','kan','waardeloos','alleen'] + list(STOPWORDS) # feedback from Poster session\n",
    "# Generate a word cloud image\n",
    "wordcloud = WordCloud(stopwords = stop_words, max_font_size=70, max_words=40, background_color=\"white\").generate(result_final)\n",
    "\n",
    "\n",
    "# Display the generated image:\n",
    "# the matplotlib way:\n",
    "import matplotlib.pyplot as plt\n",
    "plt.imshow(wordcloud, interpolation='bilinear')\n",
    "plt.axis(\"off\")\n",
    "#plt.savefig('wordcloud.png', dpi=300)"
   ]
  },
  {
   "cell_type": "markdown",
   "metadata": {},
   "source": [
    "From this WordCloud, it seems that users have problems with:\n",
    "<li> loggin </li>\n",
    "<li> scanning </li>\n",
    "<li> there seem to be a problem with openen (running the app?)</li>\n",
    "<li> and taxes. </li>\n"
   ]
  },
  {
   "cell_type": "markdown",
   "metadata": {},
   "source": [
    ">To improve the DigiD app, the government could look into these matters. By doing so, the user experience increases, including trust in the relationship with DigiD."
   ]
  },
  {
   "cell_type": "markdown",
   "metadata": {},
   "source": [
    "<font color=\"#5c5c3d\"><h2>Top 5!</h2></font>"
   ]
  },
  {
   "cell_type": "markdown",
   "metadata": {},
   "source": [
    "DigiD is also doing things right, below the top 5 best predicted positive reviews!"
   ]
  },
  {
   "cell_type": "code",
   "execution_count": 38,
   "metadata": {},
   "outputs": [
    {
     "data": {
      "text/html": [
       "<div>\n",
       "<style scoped>\n",
       "    .dataframe tbody tr th:only-of-type {\n",
       "        vertical-align: middle;\n",
       "    }\n",
       "\n",
       "    .dataframe tbody tr th {\n",
       "        vertical-align: top;\n",
       "    }\n",
       "\n",
       "    .dataframe thead th {\n",
       "        text-align: right;\n",
       "    }\n",
       "</style>\n",
       "<table border=\"1\" class=\"dataframe\">\n",
       "  <thead>\n",
       "    <tr style=\"text-align: right;\">\n",
       "      <th></th>\n",
       "      <th>name</th>\n",
       "      <th>stars</th>\n",
       "      <th>reviewFinal</th>\n",
       "      <th>Negative probabilty</th>\n",
       "      <th>Positive probabilty</th>\n",
       "    </tr>\n",
       "  </thead>\n",
       "  <tbody>\n",
       "    <tr>\n",
       "      <td>322</td>\n",
       "      <td>Ramon Koendjbiharie</td>\n",
       "      <td>positive</td>\n",
       "      <td>prima app. heel makkelijk en simpel opgezet. snel, erg handig. dank je digid. ga zo door</td>\n",
       "      <td>0.0000</td>\n",
       "      <td>1.0000</td>\n",
       "    </tr>\n",
       "    <tr>\n",
       "      <td>377</td>\n",
       "      <td>mg proos</td>\n",
       "      <td>positive</td>\n",
       "      <td>werkt goed bij mij.lekker handig!! en snel en naar mijn gevoel goed safe. eerst qr code scannen en daarna pincode 5 cijfers.</td>\n",
       "      <td>0.0000</td>\n",
       "      <td>1.0000</td>\n",
       "    </tr>\n",
       "    <tr>\n",
       "      <td>695</td>\n",
       "      <td>Harmjan Niks</td>\n",
       "      <td>positive</td>\n",
       "      <td>prima app, die ik dagelijks check en gebruik, en bevat superhandige functies! ik zou zeggen: download en installeer en ervaar het gebruiksgemak zelf!!!</td>\n",
       "      <td>0.0000</td>\n",
       "      <td>1.0000</td>\n",
       "    </tr>\n",
       "    <tr>\n",
       "      <td>669</td>\n",
       "      <td>Jannie Braal</td>\n",
       "      <td>positive</td>\n",
       "      <td>werkt prima en snel. heel handig hulpmiddel</td>\n",
       "      <td>0.0000</td>\n",
       "      <td>1.0000</td>\n",
       "    </tr>\n",
       "    <tr>\n",
       "      <td>930</td>\n",
       "      <td>Rik Janssen</td>\n",
       "      <td>positive</td>\n",
       "      <td>doet wat het moet doen. makkelijk inloggen. al snap ik de verwarring dat mensen denken alles in te kunnen zien mbt digid. nee dat is het niet, het zorgt ervoor dat je veilig in kan loggen en enkel 5 cijfers hoeft te onthouden.</td>\n",
       "      <td>0.0000</td>\n",
       "      <td>1.0000</td>\n",
       "    </tr>\n",
       "  </tbody>\n",
       "</table>\n",
       "</div>"
      ],
      "text/plain": [
       "                    name     stars  \\\n",
       "322  Ramon Koendjbiharie  positive   \n",
       "377  mg proos             positive   \n",
       "695  Harmjan Niks         positive   \n",
       "669  Jannie Braal         positive   \n",
       "930  Rik Janssen          positive   \n",
       "\n",
       "                                                                                                                                                                                                                            reviewFinal  \\\n",
       "322  prima app. heel makkelijk en simpel opgezet. snel, erg handig. dank je digid. ga zo door                                                                                                                                             \n",
       "377  werkt goed bij mij.lekker handig!! en snel en naar mijn gevoel goed safe. eerst qr code scannen en daarna pincode 5 cijfers.                                                                                                         \n",
       "695  prima app, die ik dagelijks check en gebruik, en bevat superhandige functies! ik zou zeggen: download en installeer en ervaar het gebruiksgemak zelf!!!                                                                              \n",
       "669  werkt prima en snel. heel handig hulpmiddel                                                                                                                                                                                          \n",
       "930  doet wat het moet doen. makkelijk inloggen. al snap ik de verwarring dat mensen denken alles in te kunnen zien mbt digid. nee dat is het niet, het zorgt ervoor dat je veilig in kan loggen en enkel 5 cijfers hoeft te onthouden.   \n",
       "\n",
       "     Negative probabilty  Positive probabilty  \n",
       "322 0.0000               1.0000                \n",
       "377 0.0000               1.0000                \n",
       "695 0.0000               1.0000                \n",
       "669 0.0000               1.0000                \n",
       "930 0.0000               1.0000                "
      ]
     },
     "execution_count": 38,
     "metadata": {},
     "output_type": "execute_result"
    }
   ],
   "source": [
    "df_round_2 = df_round_2.sort_values(by='Negative probabilty') \n",
    "df_round_2.head(5)"
   ]
  },
  {
   "cell_type": "markdown",
   "metadata": {},
   "source": [
    "<b>Refrences</b>\n",
    "\n",
    "Abu-Shanab, E., & Harb, Y. (2019). E-government research insights: Text mining analysis. Electronic Commerce Research and Applications, 38, 100892.\n",
    "\n",
    "De Pelsmacker, P., Dens, N., & Kolomiiets, A. (2018). \n",
    "The impact of text valence, star rating and rated usefulness in online reviews. \n",
    "International Journal of Advertising, 37(3), 340-359."
   ]
  },
  {
   "cell_type": "code",
   "execution_count": null,
   "metadata": {},
   "outputs": [],
   "source": []
  }
 ],
 "metadata": {
  "kernelspec": {
   "display_name": "Python 3",
   "language": "python",
   "name": "python3"
  },
  "language_info": {
   "codemirror_mode": {
    "name": "ipython",
    "version": 3
   },
   "file_extension": ".py",
   "mimetype": "text/x-python",
   "name": "python",
   "nbconvert_exporter": "python",
   "pygments_lexer": "ipython3",
   "version": "3.7.3"
  }
 },
 "nbformat": 4,
 "nbformat_minor": 2
}
